{
 "cells": [
  {
   "cell_type": "raw",
   "metadata": {},
   "source": [
    " Let take the example from th cost function eqution for the linear model where as Q0=0\n",
    "    \n",
    "    i.e: j(Q1)=1/2m(∑i=1,m(hθ(X(i))−Y(i))2"
   ]
  },
  {
   "cell_type": "code",
   "execution_count": 2,
   "metadata": {},
   "outputs": [],
   "source": [
    "##Import some of the important libraries"
   ]
  },
  {
   "cell_type": "code",
   "execution_count": 34,
   "metadata": {},
   "outputs": [],
   "source": [
    "import numpy as np\n",
    "import matplotlib.pyplot as plt"
   ]
  },
  {
   "cell_type": "code",
   "execution_count": 43,
   "metadata": {},
   "outputs": [],
   "source": [
    "# X = np.array([[1], [2], [3]])\n",
    "# y = np.array([[1], [2.5], [3.5]])\n",
    "\n",
    "# get_theta = lambda theta: np.array([[0, theta]])\n",
    "\n",
    "# thetas = list(map(get_theta, [0.5, 1.0, 1.5]))\n",
    "\n",
    "# X = np.hstack([np.ones([3, 1]), X])\n",
    "\n",
    "# def cost(X, y, theta):\n",
    "#     inner = np.power(((X @ theta.T) - y), 2)\n",
    "#     return np.sum(inner) / (2 * len(X))\n",
    "\n",
    "# for i in range(len(thetas)):\n",
    "#     print(cost(X, y, thetas[i]))"
   ]
  },
  {
   "cell_type": "markdown",
   "metadata": {},
   "source": [
    "Calculating the cost function using Python"
   ]
  },
  {
   "cell_type": "markdown",
   "metadata": {},
   "source": [
    "Remember  we are finding the difference between estimated values (Y), or the difference between the hypothesis and the real values — the actual data we are trying to fit a line to."
   ]
  },
  {
   "cell_type": "markdown",
   "metadata": {},
   "source": [
    "╔═══════╦═══════╦═════════════╗\n",
    "║   X   ║ y     ║  best_fit_1 ║\n",
    "╠═══════╬═══════╬═════════════╣\n",
    "║ 1.00  ║ 1.00  ║    0.50     ║\n",
    "║ 2.00  ║ 2.50  ║    1.00     ║\n",
    "║ 3.00  ║ 3.50  ║    1.50     ║\n",
    "╚═══════╩═══════╩═════════════╝"
   ]
  },
  {
   "cell_type": "code",
   "execution_count": 103,
   "metadata": {},
   "outputs": [],
   "source": [
    "# # original data set\n",
    "X = [1, 2, 3]\n",
    "y = [1,2.5,3.5]\n",
    "\n",
    "# # Another data set\n",
    "# X = [1, 2, 3]\n",
    "# y = [1.7,3.5,5]"
   ]
  },
  {
   "cell_type": "code",
   "execution_count": 104,
   "metadata": {},
   "outputs": [
    {
     "data": {
      "image/png": "[encoded data removed]",
      "text/plain": [
       "<Figure size 432x288 with 1 Axes>"
      ]
     },
     "metadata": {
      "needs_background": "light"
     },
     "output_type": "display_data"
    }
   ],
   "source": [
    "gr=plt.scatter(X,y)\n",
    "gr=plt.plot(X,y)"
   ]
  },
  {
   "cell_type": "code",
   "execution_count": 107,
   "metadata": {},
   "outputs": [
    {
     "name": "stdout",
     "output_type": "stream",
     "text": [
      "Cost for  1.083  is  0.030241000000000035\n",
      "Cost for  0.083  is  2.809574333333333\n",
      "Cost for  0.25  is  2.020833333333333\n"
     ]
    }
   ],
   "source": [
    "\n",
    "# slope of best_fit_1 is 1.083\n",
    "# slope of best_fit_2 is 0.083\n",
    "# slope of best_fit_3 is 0.25\n",
    "\n",
    "# hyps =[1.083]\n",
    "hyps =[1.083, 0.083, 0.25]\n",
    "\n",
    "\n",
    "# mutiply the original X values by the theta \n",
    "# to produce hypothesis values for each X\n",
    "def multiply_matrix(mat, theta):\n",
    "    mutated = []\n",
    "    for i in range(len(mat)):\n",
    "        mutated.append(mat[i] * theta)\n",
    "\n",
    "    return mutated\n",
    "\n",
    "# calculate cost by looping each sample\n",
    "# subtract hyp(x) from y\n",
    "# square the result\n",
    "# sum them all together\n",
    "def calc_cost(m, X, y):\n",
    "    total = 0\n",
    "    for i in range(m):\n",
    "        squared_error = (y[i] - X[i]) ** 2\n",
    "        total += squared_error\n",
    "    \n",
    "    return total * (1 / (2*m))\n",
    "\n",
    "# calculate cost for each hypothesis\n",
    "for i in range(len(hyps)):\n",
    "    hyp_values = multiply_matrix(X, hyps[i])\n",
    "\n",
    "    print(\"Cost for \", hyps[i], \" is \", calc_cost(len(X), y, hyp_values))"
   ]
  },
  {
   "cell_type": "code",
   "execution_count": null,
   "metadata": {},
   "outputs": [],
   "source": []
  }
 ],
 "metadata": {
  "kernelspec": {
   "display_name": "Python 3",
   "language": "python",
   "name": "python3"
  },
  "language_info": {
   "codemirror_mode": {
    "name": "ipython",
    "version": 3
   },
   "file_extension": ".py",
   "mimetype": "text/x-python",
   "name": "python",
   "nbconvert_exporter": "python",
   "pygments_lexer": "ipython3",
   "version": "3.7.0"
  }
 },
 "nbformat": 4,
 "nbformat_minor": 2
}
